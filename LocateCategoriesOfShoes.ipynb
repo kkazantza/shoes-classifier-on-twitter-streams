{
 "cells": [
  {
   "cell_type": "code",
   "execution_count": null,
   "metadata": {},
   "outputs": [],
   "source": [
    "from pyspark.sql import SparkSession\n",
    "from pyspark.sql import Row"
   ]
  },
  {
   "cell_type": "code",
   "execution_count": 1,
   "metadata": {},
   "outputs": [
    {
     "name": "stdout",
     "output_type": "stream",
     "text": [
      "root\n",
      " |-- product_id: integer (nullable = true)\n",
      " |-- name: string (nullable = true)\n",
      " |-- upc_id: string (nullable = true)\n",
      " |-- descr: string (nullable = true)\n",
      " |-- vendor_catalog_url: string (nullable = true)\n",
      " |-- buy_url: string (nullable = true)\n",
      " |-- manufacturer_name: string (nullable = true)\n",
      " |-- sale_price: decimal(38,18) (nullable = true)\n",
      " |-- retail_price: decimal(38,18) (nullable = true)\n",
      " |-- manufacturer_part_no: string (nullable = true)\n",
      " |-- country: string (nullable = true)\n",
      " |-- vendor_id: integer (nullable = true)\n",
      " |-- category_name: string (nullable = true)\n",
      " |-- category_code: string (nullable = true)\n",
      " |-- category_id: integer (nullable = true)\n",
      "\n"
     ]
    }
   ],
   "source": [
    "shoes_df = spark.read \\\n",
    "    .format(\"jdbc\") \\\n",
    "    .option(\"url\", \"jdbc:postgresql://s01:5432/products\") \\\n",
    "    .option(\"driver\",\"org.postgresql.Driver\") \\\n",
    "    .option(\"dbtable\", \"(select * from temp_products where lower(category_name) like '%shoe%') as query\") \\\n",
    "    .option(\"user\", \"dinosar\") \\\n",
    "    .option(\"password\", \"forsharingpurposes\") \\\n",
    "    .load()\n",
    "\n",
    "shoes_df.printSchema()"
   ]
  },
  {
   "cell_type": "code",
   "execution_count": 3,
   "metadata": {},
   "outputs": [
    {
     "data": {
      "text/html": [
       "<div>\n",
       "<style scoped>\n",
       "    .dataframe tbody tr th:only-of-type {\n",
       "        vertical-align: middle;\n",
       "    }\n",
       "\n",
       "    .dataframe tbody tr th {\n",
       "        vertical-align: top;\n",
       "    }\n",
       "\n",
       "    .dataframe thead th {\n",
       "        text-align: right;\n",
       "    }\n",
       "</style>\n",
       "<table border=\"1\" class=\"dataframe\">\n",
       "  <thead>\n",
       "    <tr style=\"text-align: right;\">\n",
       "      <th></th>\n",
       "      <th>category_name</th>\n",
       "      <th>count</th>\n",
       "    </tr>\n",
       "  </thead>\n",
       "  <tbody>\n",
       "    <tr>\n",
       "      <th>0</th>\n",
       "      <td>Lace-up Shoes</td>\n",
       "      <td>12353</td>\n",
       "    </tr>\n",
       "    <tr>\n",
       "      <th>1</th>\n",
       "      <td>Athletic Shoes</td>\n",
       "      <td>12834</td>\n",
       "    </tr>\n",
       "    <tr>\n",
       "      <th>2</th>\n",
       "      <td>Boys' Shoes</td>\n",
       "      <td>15400</td>\n",
       "    </tr>\n",
       "    <tr>\n",
       "      <th>3</th>\n",
       "      <td>Evening Shoes</td>\n",
       "      <td>901</td>\n",
       "    </tr>\n",
       "    <tr>\n",
       "      <th>4</th>\n",
       "      <td>Shoes</td>\n",
       "      <td>848</td>\n",
       "    </tr>\n",
       "    <tr>\n",
       "      <th>5</th>\n",
       "      <td>Girls' Shoes</td>\n",
       "      <td>21632</td>\n",
       "    </tr>\n",
       "  </tbody>\n",
       "</table>\n",
       "</div>"
      ],
      "text/plain": [
       "    category_name  count\n",
       "0   Lace-up Shoes  12353\n",
       "1  Athletic Shoes  12834\n",
       "2     Boys' Shoes  15400\n",
       "3   Evening Shoes    901\n",
       "4           Shoes    848\n",
       "5    Girls' Shoes  21632"
      ]
     },
     "execution_count": 3,
     "metadata": {},
     "output_type": "execute_result"
    }
   ],
   "source": [
    "category_names = shoes_df.groupBy(\"category_name\").count().toPandas() \n",
    "category_names"
   ]
  },
  {
   "cell_type": "code",
   "execution_count": 4,
   "metadata": {},
   "outputs": [],
   "source": [
    "shoes_df.write.parquet(\"hdfs:///data/products/shoes.parquet\")"
   ]
  }
 ],
 "metadata": {
  "kernelspec": {
   "display_name": "Python 2",
   "language": "python",
   "name": "python2"
  },
  "language_info": {
   "codemirror_mode": {
    "name": "ipython",
    "version": 2
   },
   "file_extension": ".py",
   "mimetype": "text/x-python",
   "name": "python",
   "nbconvert_exporter": "python",
   "pygments_lexer": "ipython2",
   "version": "2.7.12"
  }
 },
 "nbformat": 4,
 "nbformat_minor": 2
}
